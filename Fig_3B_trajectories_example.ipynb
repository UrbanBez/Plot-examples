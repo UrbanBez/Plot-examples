{
 "cells": [
  {
   "cell_type": "code",
   "execution_count": 1,
   "metadata": {},
   "outputs": [],
   "source": [
    "# Import packages\n",
    "\n",
    "%matplotlib inline\n",
    "import numpy as np\n",
    "import pandas as pd\n",
    "import matplotlib.pyplot as plt\n",
    "import matplotlib as mpl\n",
    "from matplotlib import ticker\n",
    "from matplotlib import rc\n",
    "import seaborn as sns\n",
    "\n",
    "# Set the global font to be Arial, size 10\n",
    "rc('font',**{'family':'sans-serif','sans-serif':['Arial'],'size':10})\n",
    "\n",
    "# Package to read xml files\n",
    "from xml.etree import cElementTree as ET"
   ]
  },
  {
   "cell_type": "code",
   "execution_count": 2,
   "metadata": {},
   "outputs": [],
   "source": [
    "# This function was adopted from Paulo Caldas, please see: \n",
    "# https://github.com/paulocaldas/How-to-Python/blob/master/Read%20XML%20files%20and%20Plot%20Trajectories%20from%20TrackMate.ipynb\n",
    "\n",
    "\n",
    "def read_trackmate_xml_tracks(xml_file):\n",
    "    \"\"\"Reads tracks from trackmate xml track file and returns a DataFrame \n",
    "    in similar format as the trackmate csv, plus the frame interval is returned\"\"\"\n",
    "    \n",
    "    tracks = ET.parse(xml_file)\n",
    "    frame_interval = float(tracks.getroot().attrib[\"frameInterval\"])\n",
    "    \n",
    "    attributes = []\n",
    "    for ti, track in enumerate(tracks.iterfind('particle')):\n",
    "        for spots in track.iterfind('detection'):\n",
    "            attributes.append([ti, int(spots.attrib.get('t')),\n",
    "                                   float(spots.attrib.get('x')),\n",
    "                                   float(spots.attrib.get('y'))])\n",
    "#         attributes[ti].append(int(track.attrib.get('nSpots')))\n",
    "        \n",
    "\n",
    "    track_table = pd.DataFrame(attributes, columns=['TRACK_ID','FRAME','POSITION_X','POSITION_Y'])\n",
    "    \n",
    "    return track_table, frame_interval, attributes\n",
    "    print(attributes)"
   ]
  },
  {
   "cell_type": "code",
   "execution_count": 4,
   "metadata": {},
   "outputs": [
    {
     "name": "stdout",
     "output_type": "stream",
     "text": [
      "   TRACK_ID  FRAME  POSITION_X  POSITION_Y\n",
      "0         0      0   27.375459    0.200328\n",
      "1         0      1   27.336000    0.000000\n",
      "2         0      2   27.744000    0.000000 \n",
      "...\n",
      "Number of tracks: 671\n"
     ]
    }
   ],
   "source": [
    "data = \"3B_example_data_GTP_trajectories.xml\"\n",
    "\n",
    "table_gtp, frame_interval, attributes = read_trackmate_xml_tracks(data)\n",
    "print(table_gtp.head(3), '\\n...') # Take a look at the table format\n",
    "print(\"Number of tracks:\", table_gtp['TRACK_ID'].values[-1]+1)"
   ]
  },
  {
   "cell_type": "code",
   "execution_count": null,
   "metadata": {},
   "outputs": [
    {
     "name": "stderr",
     "output_type": "stream",
     "text": [
      "C:\\Users\\ubezelja\\AppData\\Local\\Continuum\\Anaconda3\\lib\\site-packages\\ipykernel_launcher.py:8: SettingWithCopyWarning: \n",
      "A value is trying to be set on a copy of a slice from a DataFrame.\n",
      "Try using .loc[row_indexer,col_indexer] = value instead\n",
      "\n",
      "See the caveats in the documentation: http://pandas.pydata.org/pandas-docs/stable/user_guide/indexing.html#returning-a-view-versus-a-copy\n",
      "  \n"
     ]
    }
   ],
   "source": [
    "# Generate a table with 500 random tracks.\n",
    "\n",
    "rndm_tracks = np.random.randint(0, table_gtp['TRACK_ID'].values[-1]+1, 500)\n",
    "rndm_table_gtp = table_gtp.loc[table_gtp['TRACK_ID'].isin(rndm_tracks)]\n",
    "\n",
    "# Sort the tracks by their length.\n",
    "\n",
    "rndm_table_gtp['TRACK_LENGHT'] = rndm_table_gtp.groupby('TRACK_ID')['TRACK_ID'].transform(lambda track: len(track))\n",
    "new_sorted_table_gtp = rndm_table_gtp.sort_values(by = ['TRACK_LENGHT','FRAME'], ascending = True)\n",
    "\n",
    "truncate = -1 # Truncate number of spots to plot if necessary , -1 plots all spots/trajectories.\n",
    "\n",
    "# Plot settings.\n",
    "\n",
    "fig, ax = plt.subplots(figsize=(3.6,3))\n",
    "plt.xticks(fontsize=15)\n",
    "plt.yticks(fontsize=15)\n",
    "ax.tick_params(width=1.2)\n",
    "plt.setp(ax.spines.values(), linewidth=1.2)\n",
    "\n",
    "ax.tick_params('both', length=6, width=1.2, which='major')\n",
    "ax.tick_params('both', length=4, width=1.2, which='minor')\n",
    "\n",
    "for axis in ['top','bottom','left','right']:\n",
    "    ax.spines[axis].set_linewidth(1.2)\n",
    "\n",
    "# Axis settings.\n",
    "\n",
    "plt.xlabel('x ($\\mu{}$m)', fontsize=15)\n",
    "plt.ylabel('y ($\\mu{}$m)', fontsize=15)\n",
    "locy = ticker.MultipleLocator(base=25) # this locator puts ticks at regular intervals\n",
    "ax.yaxis.set_major_locator(locy)\n",
    "locx = ticker.MultipleLocator(base=25) # this locator puts ticks at regular intervals\n",
    "ax.xaxis.set_major_locator(locx)\n",
    "\n",
    "# Plot dimensions. The aquired field of view is 512 x 512 px at 0.102 um resolution.\n",
    "\n",
    "plt.xlim([0,0.102*512])\n",
    "plt.ylim([0,0.102*512])\n",
    "\n",
    "# Pick a colormap\n",
    "\n",
    "cm = plt.get_cmap('viridis')\n",
    "\n",
    "# Plot the trajectories and normalize their color by their length. The aquisition frequency was 10 Hz (100 ms), so the track lengths are divided by 200 for time scale 0-20 s.\n",
    "\n",
    "for groups, columns in new_sorted_table_gtp[:truncate].groupby('TRACK_ID', sort = False):\n",
    "    color = cm(columns['TRACK_LENGHT'].values[0]/200)\n",
    "    trajectories = plt.plot(columns['POSITION_X'],columns['POSITION_Y'], lw = 1.2, alpha = 0.8,color = color)\n",
    "\n",
    "# Colorbar legend\n",
    "\n",
    "norm = mpl.colors.Normalize(vmin=0,vmax=20)\n",
    "sm = plt.cm.ScalarMappable(cmap=cm, norm=norm)\n",
    "sm.set_array([])\n",
    "cbar = plt.colorbar(sm, ticks=np.linspace(0,20,3))\n",
    "cbar.outline.set_linewidth(1.2)\n",
    "ticklabs = cbar.ax.get_yticklabels()\n",
    "cbar.ax.set_yticklabels(ticklabs, fontsize=15)\n",
    "cbar.ax.tick_params(width=1.2)\n",
    "cbar.set_label('track duration (s)', fontsize=15)\n",
    "    \n",
    "plt.rcParams.update({'mathtext.default':  'regular', \"svg.fonttype\": 'none' })\n",
    "\n",
    "# plt.savefig('fig3B_GTP.svg', format='svg', bbox_inches='tight',edgecolor='none')\n",
    "# plt.savefig('fig3B_GTP.png', format='png', bbox_inches='tight',edgecolor='none', dpi = 150)"
   ]
  },
  {
   "cell_type": "code",
   "execution_count": null,
   "metadata": {},
   "outputs": [],
   "source": []
  }
 ],
 "metadata": {
  "kernelspec": {
   "display_name": "Python 3",
   "language": "python",
   "name": "python3"
  },
  "language_info": {
   "codemirror_mode": {
    "name": "ipython",
    "version": 3
   },
   "file_extension": ".py",
   "mimetype": "text/x-python",
   "name": "python",
   "nbconvert_exporter": "python",
   "pygments_lexer": "ipython3",
   "version": "3.5.6"
  }
 },
 "nbformat": 4,
 "nbformat_minor": 2
}
